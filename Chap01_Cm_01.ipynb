{
  "nbformat": 4,
  "nbformat_minor": 0,
  "metadata": {
    "colab": {
      "provenance": [],
      "gpuType": "T4",
      "authorship_tag": "ABX9TyM+dDZGbThIgF+5vPHe6F2E",
      "include_colab_link": true
    },
    "kernelspec": {
      "name": "python3",
      "display_name": "Python 3"
    },
    "language_info": {
      "name": "python"
    },
    "accelerator": "GPU"
  },
  "cells": [
    {
      "cell_type": "markdown",
      "metadata": {
        "id": "view-in-github",
        "colab_type": "text"
      },
      "source": [
        "<a href=\"https://colab.research.google.com/github/katsukiyamamoto/EU_M_Math/blob/main/Chap01_Cm_01.ipynb\" target=\"_parent\"><img src=\"https://colab.research.google.com/assets/colab-badge.svg\" alt=\"Open In Colab\"/></a>"
      ]
    },
    {
      "cell_type": "code",
      "execution_count": 1,
      "metadata": {
        "id": "5XOVfWmQLXHn",
        "colab": {
          "base_uri": "https://localhost:8080/"
        },
        "outputId": "ca173a74-3bcc-49d9-92b9-47ba324ece2e"
      },
      "outputs": [
        {
          "output_type": "stream",
          "name": "stdout",
          "text": [
            "[2, 3, 5, 7]\n"
          ]
        }
      ],
      "source": [
        "#10までの素数を表すプログラムを書いてください\n",
        "\n",
        "#numが合成数（素数ではない数）の場合、その約数は num の平方根以下の範囲に存在する\n",
        "\n",
        "def is_prime(num):\n",
        "    if num <= 1:\n",
        "        return False\n",
        "    for i in range(2, int(num**0.5) + 1):\n",
        "        if num % i == 0:\n",
        "            return False\n",
        "    return True\n",
        "\n",
        "primes_up_to_10 = [num for num in range(2, 11) if is_prime(num)]\n",
        "print(primes_up_to_10)"
      ]
    },
    {
      "cell_type": "code",
      "source": [
        "#Nまでの素数を表すプログラムを書いてください\n",
        "\n",
        "def is_prime(num):\n",
        "    if num <= 1:\n",
        "        return False\n",
        "    for i in range(2, int(num ** 0.5) + 1):\n",
        "        if num % i == 0:\n",
        "            return False\n",
        "    return True\n",
        "\n",
        "def primes_up_to(n):\n",
        "    return [num for num in range(2, n + 1) if is_prime(num)]\n",
        "\n",
        "# 例えば、N=50の例\n",
        "N = 50\n",
        "primes = primes_up_to(N)\n",
        "print(primes)\n"
      ],
      "metadata": {
        "colab": {
          "base_uri": "https://localhost:8080/"
        },
        "id": "sRr3boE7Bd0o",
        "outputId": "ef409408-abd2-40a4-e28b-eb867d16e2a8"
      },
      "execution_count": 2,
      "outputs": [
        {
          "output_type": "stream",
          "name": "stdout",
          "text": [
            "[2, 3, 5, 7, 11, 13, 17, 19, 23, 29, 31, 37, 41, 43, 47]\n"
          ]
        }
      ]
    }
  ]
}