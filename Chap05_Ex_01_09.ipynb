{
  "nbformat": 4,
  "nbformat_minor": 0,
  "metadata": {
    "colab": {
      "provenance": [],
      "authorship_tag": "ABX9TyOCHcpN4qnuQmUwMwhravq2",
      "include_colab_link": true
    },
    "kernelspec": {
      "name": "python3",
      "display_name": "Python 3"
    },
    "language_info": {
      "name": "python"
    }
  },
  "cells": [
    {
      "cell_type": "markdown",
      "metadata": {
        "id": "view-in-github",
        "colab_type": "text"
      },
      "source": [
        "<a href=\"https://colab.research.google.com/github/katsukiyamamoto/EU_M_Math/blob/main/Chap05_Ex_01_09.ipynb\" target=\"_parent\"><img src=\"https://colab.research.google.com/assets/colab-badge.svg\" alt=\"Open In Colab\"/></a>"
      ]
    },
    {
      "cell_type": "code",
      "execution_count": 1,
      "metadata": {
        "colab": {
          "base_uri": "https://localhost:8080/",
          "height": 35
        },
        "id": "UOqP6hc7NhF2",
        "outputId": "b6728102-78ea-4f25-d59e-e079234dbd86"
      },
      "outputs": [
        {
          "output_type": "execute_result",
          "data": {
            "text/plain": [
              "'%.3f'"
            ],
            "application/vnd.google.colaboratory.intrinsic+json": {
              "type": "string"
            }
          },
          "metadata": {},
          "execution_count": 1
        }
      ],
      "source": [
        "#5-1-2\n",
        "\n",
        "import numpy as np\n",
        "import numpy.random as random\n",
        "import scipy as sp\n",
        "\n",
        "import matplotlib.pyplot as plt\n",
        "import matplotlib as mpl\n",
        "%matplotlib inline\n",
        "\n",
        "%precision 3"
      ]
    },
    {
      "cell_type": "code",
      "source": [
        "#5-2-1\n",
        "\n",
        "sample_array = np.arange(10)\n",
        "print('sample_array:',sample_array)\n",
        "\n",
        "\n",
        "print(sample_array)\n",
        "\n",
        "sample_array_slice = sample_array[0:5]\n",
        "print(sample_array_slice)\n",
        "\n",
        "sample_array_slice[0:3] = 10\n",
        "print(sample_array_slice)\n",
        "\n",
        "print(sample_array)"
      ],
      "metadata": {
        "colab": {
          "base_uri": "https://localhost:8080/"
        },
        "id": "MY9k__TIORS7",
        "outputId": "ef70367e-5d43-4365-a84f-b92b8a78dd6c"
      },
      "execution_count": 4,
      "outputs": [
        {
          "output_type": "stream",
          "name": "stdout",
          "text": [
            "sample_array: [0 1 2 3 4 5 6 7 8 9]\n",
            "[0 1 2 3 4 5 6 7 8 9]\n",
            "[0 1 2 3 4]\n",
            "[10 10 10  3  4]\n",
            "[10 10 10  3  4  5  6  7  8  9]\n"
          ]
        }
      ]
    },
    {
      "cell_type": "code",
      "source": [
        "#5-2-1-1\n",
        "\n",
        "sample_array_copy = np.copy(sample_array)\n",
        "print(sample_array_copy)\n",
        "\n",
        "sample_array_copy[0:3] = 20\n",
        "\n",
        "print(sample_array)"
      ],
      "metadata": {
        "colab": {
          "base_uri": "https://localhost:8080/"
        },
        "id": "D3wkcX-SO-JQ",
        "outputId": "698984a4-0212-44da-f904-70695115601a"
      },
      "execution_count": 5,
      "outputs": [
        {
          "output_type": "stream",
          "name": "stdout",
          "text": [
            "[10 10 10  3  4  5  6  7  8  9]\n",
            "[10 10 10  3  4  5  6  7  8  9]\n"
          ]
        }
      ]
    },
    {
      "cell_type": "code",
      "source": [
        "#5-2-1-2\n",
        "\n",
        "sample_names = np.array(['a', 'b', 'c', 'd', 'a'])\n",
        "random.seed(0)\n",
        "data=random.randn(5,5)\n",
        "\n",
        "print(sample_names)\n",
        "print(data)\n",
        "\n",
        "\n",
        "sample_names == 'a'\n",
        "data[sample_names == ['a']]"
      ],
      "metadata": {
        "colab": {
          "base_uri": "https://localhost:8080/"
        },
        "id": "HEfOhKkQQBNx",
        "outputId": "16150945-be73-4da0-f16a-9df2d42a65dc"
      },
      "execution_count": 6,
      "outputs": [
        {
          "output_type": "stream",
          "name": "stdout",
          "text": [
            "['a' 'b' 'c' 'd' 'a']\n",
            "[[ 1.764  0.4    0.979  2.241  1.868]\n",
            " [-0.977  0.95  -0.151 -0.103  0.411]\n",
            " [ 0.144  1.454  0.761  0.122  0.444]\n",
            " [ 0.334  1.494 -0.205  0.313 -0.854]\n",
            " [-2.553  0.654  0.864 -0.742  2.27 ]]\n"
          ]
        },
        {
          "output_type": "execute_result",
          "data": {
            "text/plain": [
              "array([[ 1.764,  0.4  ,  0.979,  2.241,  1.868],\n",
              "       [-2.553,  0.654,  0.864, -0.742,  2.27 ]])"
            ]
          },
          "metadata": {},
          "execution_count": 6
        }
      ]
    },
    {
      "cell_type": "code",
      "source": [
        "#5-2-1-3\n",
        "\n",
        "cond_data = np.array([True,True,False,False,True])\n",
        "\n",
        "x_array = np.array([1,2,3,4,5])\n",
        "y_array = np.array([100,200,300,400,500])\n",
        "\n",
        "print((np.where(cond_data, x_array, y_array)))"
      ],
      "metadata": {
        "colab": {
          "base_uri": "https://localhost:8080/"
        },
        "id": "FsN3sp1eRRer",
        "outputId": "eba5057c-2972-4b8c-dba8-2d4cdba2afcd"
      },
      "execution_count": 7,
      "outputs": [
        {
          "output_type": "stream",
          "name": "stdout",
          "text": [
            "[  1   2 300 400   5]\n"
          ]
        }
      ]
    },
    {
      "cell_type": "code",
      "source": [
        "#練習問題5-1\n",
        "\n",
        "sample_names = np.array(['a', 'b', 'c', 'd', 'a'])\n",
        "random.seed(0)\n",
        "data=random.randn(5,5)\n",
        "\n",
        "print(sample_names)\n",
        "print(data)\n",
        "\n",
        "sample_names == 'b'\n",
        "data[sample_names == ['b']]"
      ],
      "metadata": {
        "colab": {
          "base_uri": "https://localhost:8080/"
        },
        "id": "xJlw9QrsSVQb",
        "outputId": "97011118-4865-4f24-ede9-dd8cea7e64c0"
      },
      "execution_count": 8,
      "outputs": [
        {
          "output_type": "stream",
          "name": "stdout",
          "text": [
            "['a' 'b' 'c' 'd' 'a']\n",
            "[[ 1.764  0.4    0.979  2.241  1.868]\n",
            " [-0.977  0.95  -0.151 -0.103  0.411]\n",
            " [ 0.144  1.454  0.761  0.122  0.444]\n",
            " [ 0.334  1.494 -0.205  0.313 -0.854]\n",
            " [-2.553  0.654  0.864 -0.742  2.27 ]]\n"
          ]
        },
        {
          "output_type": "execute_result",
          "data": {
            "text/plain": [
              "array([[-0.977,  0.95 , -0.151, -0.103,  0.411]])"
            ]
          },
          "metadata": {},
          "execution_count": 8
        }
      ]
    },
    {
      "cell_type": "code",
      "source": [
        "#練習問題5-２\n",
        "\n",
        "data[sample_names != ['c']]"
      ],
      "metadata": {
        "colab": {
          "base_uri": "https://localhost:8080/"
        },
        "id": "W8ABq-53SwOP",
        "outputId": "877e7f0c-715e-4d71-cbb3-628abc3d2f85"
      },
      "execution_count": 12,
      "outputs": [
        {
          "output_type": "execute_result",
          "data": {
            "text/plain": [
              "array([[ 1.764,  0.4  ,  0.979,  2.241,  1.868],\n",
              "       [-0.977,  0.95 , -0.151, -0.103,  0.411],\n",
              "       [ 0.334,  1.494, -0.205,  0.313, -0.854],\n",
              "       [-2.553,  0.654,  0.864, -0.742,  2.27 ]])"
            ]
          },
          "metadata": {},
          "execution_count": 12
        }
      ]
    },
    {
      "cell_type": "code",
      "source": [
        "#練習問題5-3\n",
        "\n",
        "cond_data = np.array([True,True,False,False,True])\n",
        "\n",
        "x_array = np.array([1,2,3,4,5])\n",
        "y_array = np.array([6,7,8,9,10])\n",
        "\n",
        "print((np.where(cond_data, y_array, x_array)))"
      ],
      "metadata": {
        "colab": {
          "base_uri": "https://localhost:8080/"
        },
        "id": "plKYrBmbT1yN",
        "outputId": "a4928ecf-cdbb-4650-dc35-23e7e6a4c78d"
      },
      "execution_count": 13,
      "outputs": [
        {
          "output_type": "stream",
          "name": "stdout",
          "text": [
            "[ 6  7  3  4 10]\n"
          ]
        }
      ]
    },
    {
      "cell_type": "code",
      "source": [
        "#5-2-2-1\n",
        "\n",
        "cond_data = np.array([True,True,False,False,True])\n",
        "\n",
        "print(cond_data)\n",
        "\n",
        "print(np.unique(cond_data))"
      ],
      "metadata": {
        "colab": {
          "base_uri": "https://localhost:8080/"
        },
        "id": "3W6abDjTUR50",
        "outputId": "4efbf8c8-8b18-49d1-9d6b-1d3bfc374f9e"
      },
      "execution_count": 14,
      "outputs": [
        {
          "output_type": "stream",
          "name": "stdout",
          "text": [
            "[ True  True False False  True]\n",
            "[False  True]\n"
          ]
        }
      ]
    },
    {
      "cell_type": "code",
      "source": [
        "#5-2-2-2\n",
        "\n",
        "sample_data = np.arange(10)\n",
        "print('元データ:', sample_data)\n",
        "print('全ての要素の平方根:', np.sqrt(sample_data))\n",
        "print('全ての要素のネイピア指数関数:', np.exp(sample_data))"
      ],
      "metadata": {
        "colab": {
          "base_uri": "https://localhost:8080/"
        },
        "id": "3NcSszGsU1GP",
        "outputId": "f418fae5-2ca6-4bea-f3fe-ace93a36dae4"
      },
      "execution_count": 15,
      "outputs": [
        {
          "output_type": "stream",
          "name": "stdout",
          "text": [
            "元データ: [0 1 2 3 4 5 6 7 8 9]\n",
            "全ての要素の平方根: [0.    1.    1.414 1.732 2.    2.236 2.449 2.646 2.828 3.   ]\n",
            "全ての要素のネイピア指数関数: [1.000e+00 2.718e+00 7.389e+00 2.009e+01 5.460e+01 1.484e+02 4.034e+02\n",
            " 1.097e+03 2.981e+03 8.103e+03]\n"
          ]
        }
      ]
    },
    {
      "cell_type": "code",
      "source": [
        "#5-2-2-3\n",
        "sample_multi_array_data1 = np.arange(9).reshape(3,3)\n",
        "\n",
        "print(sample_multi_array_data1)\n",
        "\n",
        "print('最小値:', sample_multi_array_data1.min())\n",
        "print('最大値:', sample_multi_array_data1.max())\n",
        "print('平均:', sample_multi_array_data1.mean())\n",
        "print('合計:', sample_multi_array_data1.sum())\n",
        "\n",
        "print('行の合計:', sample_multi_array_data1.sum(axis=0))\n",
        "print('列の合計:', sample_multi_array_data1.sum(axis=1))"
      ],
      "metadata": {
        "colab": {
          "base_uri": "https://localhost:8080/"
        },
        "id": "exgYwf--Vlu-",
        "outputId": "70427b01-2aba-4d77-d35b-4e3d6f4f28f9"
      },
      "execution_count": 16,
      "outputs": [
        {
          "output_type": "stream",
          "name": "stdout",
          "text": [
            "[[0 1 2]\n",
            " [3 4 5]\n",
            " [6 7 8]]\n",
            "最小値: 0\n",
            "最大値: 8\n",
            "平均: 4.0\n",
            "合計: 36\n",
            "行の合計: [ 9 12 15]\n",
            "列の合計: [ 3 12 21]\n"
          ]
        }
      ]
    },
    {
      "cell_type": "code",
      "source": [
        "#5-2-2-4\n",
        "\n",
        "cond_data = np.array([True,True,False,False,True])\n",
        "print('Trueが少なくとも１つあるかどうか:', cond_data.any())\n",
        "print('全てTrueかどうか:', cond_data.all())\n",
        "\n",
        "sample_multi_array_data1 = np.arange(9).reshape(3,3)\n",
        "print(sample_multi_array_data1)\n",
        "print('５よりも大きい数字がいくつあるか:', (sample_multi_array_data1>5).sum())"
      ],
      "metadata": {
        "colab": {
          "base_uri": "https://localhost:8080/"
        },
        "id": "_QdKkKHVWnRQ",
        "outputId": "8fefc337-d2ea-49dd-93cb-353adfcb4b19"
      },
      "execution_count": 18,
      "outputs": [
        {
          "output_type": "stream",
          "name": "stdout",
          "text": [
            "Trueが少なくとも１つあるかどうか: True\n",
            "全てTrueかどうか: False\n",
            "[[0 1 2]\n",
            " [3 4 5]\n",
            " [6 7 8]]\n",
            "５よりも大きい数字がいくつあるか: 3\n"
          ]
        }
      ]
    },
    {
      "cell_type": "code",
      "source": [
        "#5-2-2-5\n",
        "\n",
        "sample_multi_array_data1 = np.arange(9).reshape(3,3)\n",
        "print(sample_multi_array_data1)\n",
        "\n",
        "print('対角成分:', np.diag(sample_multi_array_data1))\n",
        "print('対角成分の和:', np.trace(sample_multi_array_data1))"
      ],
      "metadata": {
        "colab": {
          "base_uri": "https://localhost:8080/"
        },
        "id": "0ljKZScoXKzn",
        "outputId": "a3c33b0e-4b07-4af8-b4c1-b2c5cad51423"
      },
      "execution_count": 19,
      "outputs": [
        {
          "output_type": "stream",
          "name": "stdout",
          "text": [
            "[[0 1 2]\n",
            " [3 4 5]\n",
            " [6 7 8]]\n",
            "対角成分: [0 4 8]\n",
            "対角成分の和: 12\n"
          ]
        }
      ]
    },
    {
      "cell_type": "code",
      "source": [
        "#練習問題5-4\n",
        "\n",
        "sample_multi_array_data2 = np.arange(16).reshape(4,4)\n",
        "print(sample_multi_array_data2)\n",
        "print('全ての要素の平方根:', np.sqrt(sample_multi_array_data2))"
      ],
      "metadata": {
        "colab": {
          "base_uri": "https://localhost:8080/"
        },
        "id": "kXt4E_jmYNOJ",
        "outputId": "1ebaa00d-549f-4659-ecc0-e9764377f432"
      },
      "execution_count": 20,
      "outputs": [
        {
          "output_type": "stream",
          "name": "stdout",
          "text": [
            "[[ 0  1  2  3]\n",
            " [ 4  5  6  7]\n",
            " [ 8  9 10 11]\n",
            " [12 13 14 15]]\n",
            "全ての要素の平方根: [[0.    1.    1.414 1.732]\n",
            " [2.    2.236 2.449 2.646]\n",
            " [2.828 3.    3.162 3.317]\n",
            " [3.464 3.606 3.742 3.873]]\n"
          ]
        }
      ]
    },
    {
      "cell_type": "code",
      "source": [
        "#練習問題5-5\n",
        "\n",
        "print('最小値:', sample_multi_array_data2.min())\n",
        "print('最大値:', sample_multi_array_data2.max())\n",
        "print('平均:', sample_multi_array_data2.mean())\n",
        "print('合計:', sample_multi_array_data2.sum())"
      ],
      "metadata": {
        "colab": {
          "base_uri": "https://localhost:8080/"
        },
        "id": "9Ls7BvvSYnxs",
        "outputId": "de5979bb-b3f7-46cc-fbac-9911c3d96e2d"
      },
      "execution_count": 21,
      "outputs": [
        {
          "output_type": "stream",
          "name": "stdout",
          "text": [
            "最小値: 0\n",
            "最大値: 15\n",
            "平均: 7.5\n",
            "合計: 120\n"
          ]
        }
      ]
    },
    {
      "cell_type": "code",
      "source": [
        "#練習問題5-6\n",
        "\n",
        "print('対角成分の和:', np.trace(sample_multi_array_data2))"
      ],
      "metadata": {
        "colab": {
          "base_uri": "https://localhost:8080/"
        },
        "id": "9YQz-O9bYxET",
        "outputId": "31f0015a-8fb9-4b18-fd98-a2db0d9adbac"
      },
      "execution_count": 22,
      "outputs": [
        {
          "output_type": "stream",
          "name": "stdout",
          "text": [
            "対角成分の和: 30\n"
          ]
        }
      ]
    },
    {
      "cell_type": "code",
      "source": [
        "#5-2-3-1\n",
        "\n",
        "sample_array = np.arange(10)\n",
        "print(sample_array)\n",
        "\n",
        "sample_array2 = sample_array.reshape(2,5)\n",
        "print(sample_array2)\n",
        "\n",
        "sample_array2.reshape(5,2)"
      ],
      "metadata": {
        "colab": {
          "base_uri": "https://localhost:8080/"
        },
        "id": "5Kyxmp9HY4sK",
        "outputId": "8c9186f4-c5fd-413d-8dc1-d55fd4192bf2"
      },
      "execution_count": 25,
      "outputs": [
        {
          "output_type": "stream",
          "name": "stdout",
          "text": [
            "[0 1 2 3 4 5 6 7 8 9]\n",
            "[[0 1 2 3 4]\n",
            " [5 6 7 8 9]]\n"
          ]
        },
        {
          "output_type": "execute_result",
          "data": {
            "text/plain": [
              "array([[0, 1],\n",
              "       [2, 3],\n",
              "       [4, 5],\n",
              "       [6, 7],\n",
              "       [8, 9]])"
            ]
          },
          "metadata": {},
          "execution_count": 25
        }
      ]
    },
    {
      "cell_type": "code",
      "source": [
        "#5-2-3-2\n",
        "\n",
        "sample_array3 = np.array([[1,2,3],[4,5,6]])\n",
        "sample_array4 = np.array([[7,8,9],[10,11,12]])\n",
        "\n",
        "print(sample_array3)\n",
        "print(sample_array4)\n",
        "\n",
        "np.concatenate([sample_array3,sample_array4],axis=0)\n",
        "\n",
        "np.vstack([sample_array3,sample_array4])\n",
        "\n",
        "np.concatenate([sample_array3,sample_array4],axis=1)\n",
        "\n",
        "np.hstack([sample_array3,sample_array4])"
      ],
      "metadata": {
        "colab": {
          "base_uri": "https://localhost:8080/"
        },
        "id": "1SY4CvGlZwf7",
        "outputId": "5857332b-1ecf-419f-9aea-770b728db8f1"
      },
      "execution_count": 26,
      "outputs": [
        {
          "output_type": "stream",
          "name": "stdout",
          "text": [
            "[[1 2 3]\n",
            " [4 5 6]]\n",
            "[[ 7  8  9]\n",
            " [10 11 12]]\n"
          ]
        },
        {
          "output_type": "execute_result",
          "data": {
            "text/plain": [
              "array([[ 1,  2,  3,  7,  8,  9],\n",
              "       [ 4,  5,  6, 10, 11, 12]])"
            ]
          },
          "metadata": {},
          "execution_count": 26
        }
      ]
    },
    {
      "cell_type": "code",
      "source": [
        "#5-2-3-3\n",
        "\n",
        "sample_array3 = np.array([[1,2,3],[4,5,6]])\n",
        "sample_array4 = np.array([[7,8,9],[10,11,12]])\n",
        "\n",
        "sample_array_vstack = np.vstack([sample_array3,sample_array4])\n",
        "\n",
        "print(sample_array_vstack)\n",
        "\n",
        "first,second,third = np.split(sample_array_vstack,[1,3])\n",
        "\n",
        "print(first)\n",
        "print(second)\n",
        "print(third)\n",
        "\n",
        "sample_array5 = np.array([[13,14,15],[16,17,18],[19,20,21]])\n",
        "sample_array_vstack2 = np.vstack([sample_array3,sample_array4,sample_array5])\n",
        "\n",
        "print(sample_array_vstack2)\n",
        "\n",
        "first,second,third,fourth = np.split(sample_array_vstack2,[2,3,5])\n",
        "\n",
        "print('1つ目:\\n', first, '\\n')\n",
        "print('2つ目:\\n', second, '\\n')\n",
        "print('3つ目:\\n', third, '\\n')\n",
        "print('4つ目:\\n', fourth, '\\n')\n",
        "\n",
        "print(first[0])\n",
        "print(first[1])"
      ],
      "metadata": {
        "colab": {
          "base_uri": "https://localhost:8080/"
        },
        "id": "dTx7TV7Ka1sU",
        "outputId": "c9a09278-c9ac-47a9-9e4d-19cc66242387"
      },
      "execution_count": 27,
      "outputs": [
        {
          "output_type": "stream",
          "name": "stdout",
          "text": [
            "[[ 1  2  3]\n",
            " [ 4  5  6]\n",
            " [ 7  8  9]\n",
            " [10 11 12]]\n",
            "[[1 2 3]]\n",
            "[[4 5 6]\n",
            " [7 8 9]]\n",
            "[[10 11 12]]\n",
            "[[ 1  2  3]\n",
            " [ 4  5  6]\n",
            " [ 7  8  9]\n",
            " [10 11 12]\n",
            " [13 14 15]\n",
            " [16 17 18]\n",
            " [19 20 21]]\n",
            "1つ目:\n",
            " [[1 2 3]\n",
            " [4 5 6]] \n",
            "\n",
            "2つ目:\n",
            " [[7 8 9]] \n",
            "\n",
            "3つ目:\n",
            " [[10 11 12]\n",
            " [13 14 15]] \n",
            "\n",
            "4つ目:\n",
            " [[16 17 18]\n",
            " [19 20 21]] \n",
            "\n",
            "[1 2 3]\n",
            "[4 5 6]\n"
          ]
        }
      ]
    },
    {
      "cell_type": "code",
      "source": [
        "#5-2-3-4\n",
        "\n",
        "first.repeat(5)"
      ],
      "metadata": {
        "colab": {
          "base_uri": "https://localhost:8080/"
        },
        "id": "qcXSddvac6b2",
        "outputId": "e6db60c8-a056-4c7a-da0f-be3274e1cc20"
      },
      "execution_count": 28,
      "outputs": [
        {
          "output_type": "execute_result",
          "data": {
            "text/plain": [
              "array([1, 1, 1, 1, 1, 2, 2, 2, 2, 2, 3, 3, 3, 3, 3, 4, 4, 4, 4, 4, 5, 5,\n",
              "       5, 5, 5, 6, 6, 6, 6, 6])"
            ]
          },
          "metadata": {},
          "execution_count": 28
        }
      ]
    },
    {
      "cell_type": "code",
      "source": [
        "#5-2-3-5\n",
        "\n",
        "sample_array = np.arange(10)\n",
        "print(sample_array)\n",
        "\n",
        "sample_array + 3"
      ],
      "metadata": {
        "colab": {
          "base_uri": "https://localhost:8080/"
        },
        "id": "dvpMsG7XdFWS",
        "outputId": "56fc14d9-bd21-4805-bfa6-b1591825d390"
      },
      "execution_count": 29,
      "outputs": [
        {
          "output_type": "stream",
          "name": "stdout",
          "text": [
            "[0 1 2 3 4 5 6 7 8 9]\n"
          ]
        },
        {
          "output_type": "execute_result",
          "data": {
            "text/plain": [
              "array([ 3,  4,  5,  6,  7,  8,  9, 10, 11, 12])"
            ]
          },
          "metadata": {},
          "execution_count": 29
        }
      ]
    },
    {
      "cell_type": "code",
      "source": [
        "#練習問題5-7\n",
        "\n",
        "sample_array1 = np.arange(12).reshape(3,4)\n",
        "sample_array2 = np.arange(12).reshape(3,4)\n",
        "\n",
        "np.concatenate([sample_array1,sample_array2])"
      ],
      "metadata": {
        "colab": {
          "base_uri": "https://localhost:8080/"
        },
        "id": "KkVIoMjP3pqm",
        "outputId": "74f2a83a-a981-4517-f492-c4f6104618cf"
      },
      "execution_count": 31,
      "outputs": [
        {
          "output_type": "execute_result",
          "data": {
            "text/plain": [
              "array([[ 0,  1,  2,  3],\n",
              "       [ 4,  5,  6,  7],\n",
              "       [ 8,  9, 10, 11],\n",
              "       [ 0,  1,  2,  3],\n",
              "       [ 4,  5,  6,  7],\n",
              "       [ 8,  9, 10, 11]])"
            ]
          },
          "metadata": {},
          "execution_count": 31
        }
      ]
    },
    {
      "cell_type": "code",
      "source": [
        "#練習問題5-7\n",
        "\n",
        "np.concatenate([sample_array1,sample_array2],axis=1)"
      ],
      "metadata": {
        "colab": {
          "base_uri": "https://localhost:8080/"
        },
        "id": "-4AObvIP4gkz",
        "outputId": "492b5773-5d93-4420-ed2f-d1bac18e0a6e"
      },
      "execution_count": 32,
      "outputs": [
        {
          "output_type": "execute_result",
          "data": {
            "text/plain": [
              "array([[ 0,  1,  2,  3,  0,  1,  2,  3],\n",
              "       [ 4,  5,  6,  7,  4,  5,  6,  7],\n",
              "       [ 8,  9, 10, 11,  8,  9, 10, 11]])"
            ]
          },
          "metadata": {},
          "execution_count": 32
        }
      ]
    },
    {
      "cell_type": "code",
      "source": [
        "sample_list = [1,2,3,4,5]\n",
        "\n",
        "np.array(sample_list) + 3"
      ],
      "metadata": {
        "colab": {
          "base_uri": "https://localhost:8080/"
        },
        "id": "nzrASnPO4oNg",
        "outputId": "8b422379-a9ae-4b67-df50-628247cb396d"
      },
      "execution_count": 33,
      "outputs": [
        {
          "output_type": "execute_result",
          "data": {
            "text/plain": [
              "array([4, 5, 6, 7, 8])"
            ]
          },
          "metadata": {},
          "execution_count": 33
        }
      ]
    }
  ]
}